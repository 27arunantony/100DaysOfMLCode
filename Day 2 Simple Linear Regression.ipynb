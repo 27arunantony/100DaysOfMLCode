{
 "cells": [
  {
   "cell_type": "markdown",
   "metadata": {},
   "source": [
    "# Understanding the concept of simple linear regression\n",
    "In simple words linear regression is predicting the value of a variable Y(dependent variable) based on some variable X (independent variable) provided there is a linear relationship between X and Y.\n",
    "<br><br>\n",
    "This linear relationship between the 2 variables can be represented by a straight line (called **regression line**)."
   ]
  },
  {
   "attachments": {},
   "cell_type": "markdown",
   "metadata": {},
   "source": [
    "![image1.PNG](https://github.com/harshitahluwalia7895/100DaysOfMLCode/blob/master/Day%202%20images/image1.PNG)"
   ]
  },
  {
   "cell_type": "markdown",
   "metadata": {},
   "source": [
    "Now to determine if there is a linear relationship between 2 variables we can simply plot a scatter plot of variable Y with variable X .If the plotted points are randomly scattered that it can be inferred that the variables are not related."
   ]
  },
  {
   "cell_type": "markdown",
   "metadata": {},
   "source": [
    "<img align=\"left\" src=\"image2.png\"> "
   ]
  },
  {
   "cell_type": "markdown",
   "metadata": {},
   "source": [
    "<img align=\"left\" src=\"image3.png\"> "
   ]
  },
  {
   "cell_type": "markdown",
   "metadata": {},
   "source": [
    "When regression line is drawn some points will lie on the regression line other points will lie in the close vicinity of it. This is because our regression line is a **probabilistic model** and our prediction is approximate. So there will be some errors/deviations from actual/observed value of variable Y.\n",
    "<img align=\"left\" src=\"image4.png\"> "
   ]
  },
  {
   "cell_type": "markdown",
   "metadata": {},
   "source": [
    "But when the linear relationship exist between X and Y we can plot more than one line through these points. Now how do we know which one is the **best fit**?"
   ]
  },
  {
   "cell_type": "markdown",
   "metadata": {},
   "source": [
    "<img align=\"left\" src=\"image5.png\">"
   ]
  },
  {
   "cell_type": "markdown",
   "metadata": {},
   "source": [
    "To help us choose the best line we use the concept of “least squares”.\n",
    "<br>\n",
    "**Least Squares**<br>\n",
    "Y=b0 + b1X + e <br>\n",
    "<br>\n",
    "This the mathematical representation for the regression line where\n",
    "<br><br>\n",
    "Y-Dependant variable.\n",
    "<br><br>\n",
    "X-Independent variable.\n",
    "<br><br>\n",
    "b0 –intercept of the regression line.\n",
    "<br><br>\n",
    "b1-slope of the regression line.\n",
    "<br><br>\n",
    "e- error/deviation from actual/observed value of variable Y.\n",
    "<br><br>\n",
    "Suppose we fit n points of the form (x1,y1) ,(x2,y2)…..(xn,yn)to the above regression line then\n",
    "<br><br>\n",
    "<img align=\"left\" src=\"equation1.png\">\n",
    "\n",
    "<br>\n",
    "<br>\n",
    "Where ei is the difference between ith observed response value and the ith response value that is predicted by our regression line\n",
    "<br>\n"
   ]
  },
  {
   "cell_type": "markdown",
   "metadata": {},
   "source": [
    "Our aim here is to minimize this error so that we can get the best possible regression line.\n",
    "\n",
    "Now this error ei can be positive or negative but we are only interested in the magnitude of the error and not in its sign. Hence we square the errors and minimize the sum of **squared errors(SSE)."
   ]
  },
  {
   "cell_type": "markdown",
   "metadata": {},
   "source": [
    "<img align=\"left\" src=\"equation2.png\">"
   ]
  },
  {
   "cell_type": "markdown",
   "metadata": {},
   "source": [
    "<img align=\"left\" src=\"image6.png\">"
   ]
  },
  {
   "cell_type": "markdown",
   "metadata": {},
   "source": [
    "(In the above graph the green line is the best fit.)\n",
    "\n",
    "## How do we minimize the sum of squared errors(SSE)?\n",
    "Remember that b1 and b0 are still unknown to us.\n",
    "\n",
    "In the least square approach we minimize sum of squared errors(SSE) by choosing the value of b1 and b0 to be (not diving into math of it)"
   ]
  },
  {
   "cell_type": "markdown",
   "metadata": {},
   "source": [
    "<img align=\"left\" src=\"image7.png\">"
   ]
  },
  {
   "cell_type": "markdown",
   "metadata": {},
   "source": [
    "# lets practice some code "
   ]
  },
  {
   "cell_type": "code",
   "execution_count": null,
   "metadata": {},
   "outputs": [],
   "source": []
  }
 ],
 "metadata": {
  "kernelspec": {
   "display_name": "Python 3",
   "language": "python",
   "name": "python3"
  },
  "language_info": {
   "codemirror_mode": {
    "name": "ipython",
    "version": 3
   },
   "file_extension": ".py",
   "mimetype": "text/x-python",
   "name": "python",
   "nbconvert_exporter": "python",
   "pygments_lexer": "ipython3",
   "version": "3.6.5"
  }
 },
 "nbformat": 4,
 "nbformat_minor": 2
}
